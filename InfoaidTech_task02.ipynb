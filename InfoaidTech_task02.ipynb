{
  "cells": [
    {
      "cell_type": "markdown",
      "metadata": {
        "id": "view-in-github",
        "colab_type": "text"
      },
      "source": [
        "<a href=\"https://colab.research.google.com/github/vishaljbind/InfoaidTech-ML-Task-2/blob/main/InfoaidTech_task02.ipynb\" target=\"_parent\"><img src=\"https://colab.research.google.com/assets/colab-badge.svg\" alt=\"Open In Colab\"/></a>"
      ]
    },
    {
      "cell_type": "markdown",
      "source": [
        "##Info aidTech\n",
        "## Movie Recommendation System\n",
        "\n",
        "**Name: Vishal Bind**\n",
        "\n",
        "**Domain: Machine Learning Intern**"
      ],
      "metadata": {
        "id": "K50gmk8q2sBp"
      },
      "id": "K50gmk8q2sBp"
    },
    {
      "cell_type": "code",
      "execution_count": 28,
      "id": "73a66038",
      "metadata": {
        "id": "73a66038"
      },
      "outputs": [],
      "source": [
        "#loading libraries into the notebook\n",
        "import pandas as pd\n",
        "import seaborn as sns\n",
        "from scipy.sparse import csr_matrix\n",
        "from sklearn.neighbors import NearestNeighbors\n",
        "from sklearn.metrics import mean_absolute_error, mean_squared_error"
      ]
    },
    {
      "cell_type": "code",
      "execution_count": 29,
      "id": "a163e61c",
      "metadata": {
        "id": "a163e61c"
      },
      "outputs": [],
      "source": [
        "# Load the dataset into a Pandas dataframe\n",
        "data = pd.read_csv('movies.csv')"
      ]
    },
    {
      "cell_type": "code",
      "execution_count": 30,
      "id": "57c4f658",
      "metadata": {
        "colab": {
          "base_uri": "https://localhost:8080/"
        },
        "id": "57c4f658",
        "outputId": "3d8e404a-3321-4a52-d55b-65d4dd389a04"
      },
      "outputs": [
        {
          "output_type": "stream",
          "name": "stdout",
          "text": [
            "movieId    0\n",
            "title      0\n",
            "genres     0\n",
            "Ratings    0\n",
            "dtype: int64\n"
          ]
        }
      ],
      "source": [
        "#Check for missing values\n",
        "print(data.isnull().sum())"
      ]
    },
    {
      "cell_type": "code",
      "execution_count": 31,
      "id": "465b76c8",
      "metadata": {
        "scrolled": true,
        "colab": {
          "base_uri": "https://localhost:8080/"
        },
        "id": "465b76c8",
        "outputId": "dbb1bd0e-cc12-443f-b7a7-054b184ab507"
      },
      "outputs": [
        {
          "output_type": "stream",
          "name": "stdout",
          "text": [
            "0\n"
          ]
        }
      ],
      "source": [
        "# Check for duplicates\n",
        "print(data.duplicated().sum())"
      ]
    },
    {
      "cell_type": "code",
      "execution_count": 32,
      "id": "3c479618",
      "metadata": {
        "id": "3c479618"
      },
      "outputs": [],
      "source": [
        "# Remove duplicates\n",
        "data.drop_duplicates(inplace=True)"
      ]
    },
    {
      "cell_type": "code",
      "execution_count": 33,
      "id": "3c99ea19",
      "metadata": {
        "colab": {
          "base_uri": "https://localhost:8080/",
          "height": 424
        },
        "id": "3c99ea19",
        "outputId": "61370071-eb4a-460b-f3c1-13cbb71f922a"
      },
      "outputs": [
        {
          "output_type": "execute_result",
          "data": {
            "text/plain": [
              "<seaborn.axisgrid.FacetGrid at 0x79653bebcfa0>"
            ]
          },
          "metadata": {},
          "execution_count": 33
        },
        {
          "output_type": "display_data",
          "data": {
            "text/plain": [
              "<Figure size 400x400 with 1 Axes>"
            ],
            "image/png": "[encoded data removed]"
          },
          "metadata": {}
        }
      ],
      "source": [
        "sns.displot(data=data, x='Ratings', kind='kde', aspect=1, height=4)"
      ]
    },
    {
      "cell_type": "code",
      "execution_count": 7,
      "id": "864d8b82",
      "metadata": {
        "id": "864d8b82"
      },
      "outputs": [],
      "source": [
        "# Convert the dataframe into a pivot table\n",
        "user_item_matrix = pd.pivot_table(data, index=data.index, columns='movieId', values='Ratings', fill_value=0)"
      ]
    },
    {
      "cell_type": "code",
      "execution_count": 8,
      "id": "dd132d60",
      "metadata": {
        "id": "dd132d60"
      },
      "outputs": [],
      "source": [
        "# Convert the pivot table to a sparse matrix\n",
        "user_item_matrix = csr_matrix(user_item_matrix.values)"
      ]
    },
    {
      "cell_type": "code",
      "execution_count": 34,
      "id": "87acce10",
      "metadata": {
        "colab": {
          "base_uri": "https://localhost:8080/",
          "height": 74
        },
        "id": "87acce10",
        "outputId": "c04c9418-946a-4429-f468-5ba6c48cd275"
      },
      "outputs": [
        {
          "output_type": "execute_result",
          "data": {
            "text/plain": [
              "NearestNeighbors(algorithm='brute', metric='cosine')"
            ],
            "text/html": [
              "<style>#sk-container-id-3 {color: black;background-color: white;}#sk-container-id-3 pre{padding: 0;}#sk-container-id-3 div.sk-toggleable {background-color: white;}#sk-container-id-3 label.sk-toggleable__label {cursor: pointer;display: block;width: 100%;margin-bottom: 0;padding: 0.3em;box-sizing: border-box;text-align: center;}#sk-container-id-3 label.sk-toggleable__label-arrow:before {content: \"▸\";float: left;margin-right: 0.25em;color: #696969;}#sk-container-id-3 label.sk-toggleable__label-arrow:hover:before {color: black;}#sk-container-id-3 div.sk-estimator:hover label.sk-toggleable__label-arrow:before {color: black;}#sk-container-id-3 div.sk-toggleable__content {max-height: 0;max-width: 0;overflow: hidden;text-align: left;background-color: #f0f8ff;}#sk-container-id-3 div.sk-toggleable__content pre {margin: 0.2em;color: black;border-radius: 0.25em;background-color: #f0f8ff;}#sk-container-id-3 input.sk-toggleable__control:checked~div.sk-toggleable__content {max-height: 200px;max-width: 100%;overflow: auto;}#sk-container-id-3 input.sk-toggleable__control:checked~label.sk-toggleable__label-arrow:before {content: \"▾\";}#sk-container-id-3 div.sk-estimator input.sk-toggleable__control:checked~label.sk-toggleable__label {background-color: #d4ebff;}#sk-container-id-3 div.sk-label input.sk-toggleable__control:checked~label.sk-toggleable__label {background-color: #d4ebff;}#sk-container-id-3 input.sk-hidden--visually {border: 0;clip: rect(1px 1px 1px 1px);clip: rect(1px, 1px, 1px, 1px);height: 1px;margin: -1px;overflow: hidden;padding: 0;position: absolute;width: 1px;}#sk-container-id-3 div.sk-estimator {font-family: monospace;background-color: #f0f8ff;border: 1px dotted black;border-radius: 0.25em;box-sizing: border-box;margin-bottom: 0.5em;}#sk-container-id-3 div.sk-estimator:hover {background-color: #d4ebff;}#sk-container-id-3 div.sk-parallel-item::after {content: \"\";width: 100%;border-bottom: 1px solid gray;flex-grow: 1;}#sk-container-id-3 div.sk-label:hover label.sk-toggleable__label {background-color: #d4ebff;}#sk-container-id-3 div.sk-serial::before {content: \"\";position: absolute;border-left: 1px solid gray;box-sizing: border-box;top: 0;bottom: 0;left: 50%;z-index: 0;}#sk-container-id-3 div.sk-serial {display: flex;flex-direction: column;align-items: center;background-color: white;padding-right: 0.2em;padding-left: 0.2em;position: relative;}#sk-container-id-3 div.sk-item {position: relative;z-index: 1;}#sk-container-id-3 div.sk-parallel {display: flex;align-items: stretch;justify-content: center;background-color: white;position: relative;}#sk-container-id-3 div.sk-item::before, #sk-container-id-3 div.sk-parallel-item::before {content: \"\";position: absolute;border-left: 1px solid gray;box-sizing: border-box;top: 0;bottom: 0;left: 50%;z-index: -1;}#sk-container-id-3 div.sk-parallel-item {display: flex;flex-direction: column;z-index: 1;position: relative;background-color: white;}#sk-container-id-3 div.sk-parallel-item:first-child::after {align-self: flex-end;width: 50%;}#sk-container-id-3 div.sk-parallel-item:last-child::after {align-self: flex-start;width: 50%;}#sk-container-id-3 div.sk-parallel-item:only-child::after {width: 0;}#sk-container-id-3 div.sk-dashed-wrapped {border: 1px dashed gray;margin: 0 0.4em 0.5em 0.4em;box-sizing: border-box;padding-bottom: 0.4em;background-color: white;}#sk-container-id-3 div.sk-label label {font-family: monospace;font-weight: bold;display: inline-block;line-height: 1.2em;}#sk-container-id-3 div.sk-label-container {text-align: center;}#sk-container-id-3 div.sk-container {/* jupyter's `normalize.less` sets `[hidden] { display: none; }` but bootstrap.min.css set `[hidden] { display: none !important; }` so we also need the `!important` here to be able to override the default hidden behavior on the sphinx rendered scikit-learn.org. See: https://github.com/scikit-learn/scikit-learn/issues/21755 */display: inline-block !important;position: relative;}#sk-container-id-3 div.sk-text-repr-fallback {display: none;}</style><div id=\"sk-container-id-3\" class=\"sk-top-container\"><div class=\"sk-text-repr-fallback\"><pre>NearestNeighbors(algorithm=&#x27;brute&#x27;, metric=&#x27;cosine&#x27;)</pre><b>In a Jupyter environment, please rerun this cell to show the HTML representation or trust the notebook. <br />On GitHub, the HTML representation is unable to render, please try loading this page with nbviewer.org.</b></div><div class=\"sk-container\" hidden><div class=\"sk-item\"><div class=\"sk-estimator sk-toggleable\"><input class=\"sk-toggleable__control sk-hidden--visually\" id=\"sk-estimator-id-3\" type=\"checkbox\" checked><label for=\"sk-estimator-id-3\" class=\"sk-toggleable__label sk-toggleable__label-arrow\">NearestNeighbors</label><div class=\"sk-toggleable__content\"><pre>NearestNeighbors(algorithm=&#x27;brute&#x27;, metric=&#x27;cosine&#x27;)</pre></div></div></div></div></div>"
            ]
          },
          "metadata": {},
          "execution_count": 34
        }
      ],
      "source": [
        "# Train the KNN model using the sparse matrix\n",
        "knn_model = NearestNeighbors(metric='cosine', algorithm='brute')\n",
        "knn_model.fit(user_item_matrix)"
      ]
    },
    {
      "cell_type": "code",
      "execution_count": 35,
      "id": "a08a3b84",
      "metadata": {
        "id": "a08a3b84"
      },
      "outputs": [],
      "source": [
        "# Function to get movie recommendations for a user\n",
        "def get_movie_recommendations(movie_id, num_recommendations):\n",
        "    # Find the k nearest neighbors of the movie\n",
        "    distances, indices = knn_model.kneighbors(user_item_matrix[movie_id], n_neighbors=num_recommendations+1)\n",
        "\n",
        "    # Get the indices of the recommended movies\n",
        "    recommended_movie_indices = indices.squeeze()[1:]\n",
        "\n",
        "    # Get the titles of the recommended movies\n",
        "    recommended_movie_titles = data.loc[recommended_movie_indices, 'title']\n",
        "\n",
        "    return recommended_movie_titles"
      ]
    },
    {
      "cell_type": "code",
      "execution_count": 38,
      "id": "9915e9ba",
      "metadata": {
        "colab": {
          "base_uri": "https://localhost:8080/"
        },
        "id": "9915e9ba",
        "outputId": "7f8538bc-2776-435d-b4b9-611dc2016135"
      },
      "outputs": [
        {
          "output_type": "stream",
          "name": "stdout",
          "text": [
            "how many movie recommendations you want? = 4\n",
            "-----------------------------------------------------\n",
            "here is the list of 4 movies for you based on movie_id 48\n",
            "-----------------------------------------------------\n",
            "6886                    Ted Bundy (2002)\n",
            "6885                49th Parallel (1941)\n",
            "6887    District 13 (Banlieue 13) (2004)\n",
            "6889                       Hostel (2005)\n",
            "Name: title, dtype: object\n"
          ]
        }
      ],
      "source": [
        "# Test the model by getting recommendations for a movie\n",
        "movie_id = 48\n",
        "num_recom=int(input(\"how many movie recommendations you want? = \"))\n",
        "print(\"-----------------------------------------------------\")\n",
        "print(\"here is the list of\",num_recom,\"movies for you based on movie_id\",movie_id)\n",
        "print(\"-----------------------------------------------------\")\n",
        "recommended_movies = get_movie_recommendations(movie_id,num_recom)\n",
        "print(recommended_movies)"
      ]
    },
    {
      "cell_type": "code",
      "execution_count": 37,
      "id": "826e3afa",
      "metadata": {
        "colab": {
          "base_uri": "https://localhost:8080/"
        },
        "id": "826e3afa",
        "outputId": "7f9192db-31b8-43b9-a44f-0f565f424d49"
      },
      "outputs": [
        {
          "output_type": "stream",
          "name": "stdout",
          "text": [
            "Mean Absolute Error: 0.2\n",
            "Root Mean Squared Error: 0.4472135954999579\n"
          ]
        }
      ],
      "source": [
        "# Assume the following are the actual ratings for the recommended movies by a user\n",
        "actual_ratings = [0, 3, 2, 0, 1]\n",
        "\n",
        "# Calculate the mean absolute error and root mean squared error\n",
        "predicted_ratings = [data.loc[data['title'] == title, 'Ratings'].mean() for title in recommended_movies]\n",
        "\n",
        "mae = mean_absolute_error(actual_ratings, predicted_ratings)\n",
        "rmse = mean_squared_error(actual_ratings, predicted_ratings, squared=False)\n",
        "\n",
        "print(f'Mean Absolute Error: {mae}')\n",
        "print(f'Root Mean Squared Error: {rmse}')"
      ]
    },
    {
      "cell_type": "markdown",
      "id": "e476716d",
      "metadata": {
        "id": "e476716d"
      },
      "source": [
        "As our dataset have range of ratings from 1 to 3 & achieved value of MAE & RMSE is 0.2 & 0.44, which means that predicted value is very close to actual value which is good."
      ]
    },
    {
      "cell_type": "code",
      "execution_count": 39,
      "id": "df844b3f",
      "metadata": {
        "colab": {
          "base_uri": "https://localhost:8080/"
        },
        "id": "df844b3f",
        "outputId": "abc24024-1107-4edf-d119-35edbfa5024c"
      },
      "outputs": [
        {
          "output_type": "stream",
          "name": "stdout",
          "text": [
            "Accuracy: 93.33333333333333%\n"
          ]
        }
      ],
      "source": [
        "#checking the accuracy  of the model\n",
        "accuracy = 1 - (mae / max(actual_ratings))\n",
        "print(f'Accuracy: {accuracy * 100}%')"
      ]
    },
    {
      "cell_type": "markdown",
      "id": "3acecc1a",
      "metadata": {
        "id": "3acecc1a"
      },
      "source": [
        "Accuracy achieved will be be different everytime,if checked with changed actual ratings every time"
      ]
    },
    {
      "cell_type": "code",
      "execution_count": 13,
      "id": "5721df94",
      "metadata": {
        "id": "5721df94"
      },
      "outputs": [],
      "source": []
    }
  ],
  "metadata": {
    "kernelspec": {
      "display_name": "Python 3 (ipykernel)",
      "language": "python",
      "name": "python3"
    },
    "language_info": {
      "codemirror_mode": {
        "name": "ipython",
        "version": 3
      },
      "file_extension": ".py",
      "mimetype": "text/x-python",
      "name": "python",
      "nbconvert_exporter": "python",
      "pygments_lexer": "ipython3",
      "version": "3.10.9"
    },
    "colab": {
      "provenance": [],
      "include_colab_link": true
    }
  },
  "nbformat": 4,
  "nbformat_minor": 5
}